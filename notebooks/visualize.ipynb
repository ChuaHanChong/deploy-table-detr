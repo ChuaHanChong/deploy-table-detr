{
 "cells": [
  {
   "cell_type": "code",
   "execution_count": null,
   "metadata": {},
   "outputs": [],
   "source": [
    "%load_ext autoreload\n",
    "%autoreload 2\n",
    "\n",
    "import random\n",
    "import sys\n",
    "import torch\n",
    "import numpy as np\n",
    "from PIL import Image\n",
    "\n",
    "sys.path.extend([\"../src/table_detr/detr\", \"../src/table_detr/src\"])\n",
    "from app.inference import (\n",
    "    detect_text, \n",
    "    load_artifacts,\n",
    "    objects_to_cells, \n",
    "    predict, \n",
    "    select_structure_predictions, \n",
    "    select_table_predictions,     \n",
    "    structure_class_map,\n",
    "    structure_class_names,\n",
    "    structure_class_thresholds,\n",
    ")\n",
    "from app.visualize import visualize_bbox, visualize_postprocessed_cell"
   ]
  },
  {
   "cell_type": "code",
   "execution_count": null,
   "metadata": {},
   "outputs": [],
   "source": [
    "seed = 42\n",
    "random.seed(seed)\n",
    "np.random.seed(seed)\n",
    "torch.manual_seed(seed)\n",
    "\n",
    "detection_preprocessor, detection_model = load_artifacts(\n",
    "    data_type=\"detection\",\n",
    "    config_file=\"../src/table_detr/src/detection_config.json\",\n",
    "    model_load_path=\"../models/pubtables1m_detection_detr_r18.pth\",\n",
    ")\n",
    "\n",
    "structure_preprocessor, structure_model = load_artifacts(\n",
    "    data_type=\"structure\",\n",
    "    config_file=\"../src/table_detr/src/structure_config.json\",\n",
    "    model_load_path=\"../models/pubtables1m_structure_detr_r18.pth\",\n",
    ")"
   ]
  },
  {
   "cell_type": "code",
   "execution_count": null,
   "metadata": {},
   "outputs": [],
   "source": [
    "paths = [\n",
    "    \"../data/1.jpg\",\n",
    "]\n",
    "\n",
    "for path in paths:\n",
    "    img = Image.open(path).convert(\"RGB\")\n",
    "    \n",
    "    pred_labels, pred_scores, pred_bboxes = predict(detection_preprocessor, detection_model, img)\n",
    "    pred_tables = select_table_predictions(pred_labels, pred_scores, pred_bboxes)\n",
    "    \n",
    "    visualize_bbox(img, pred_tables, \"detection\")\n",
    "    \n",
    "    for pred in pred_tables:\n",
    "        bbox = pred[\"bbox\"]\n",
    "        #table_img = img.crop([bbox[0] - 50, bbox[1] - 50, bbox[2] + 50, bbox[3] + 50])\n",
    "        table_img = img.crop(bbox)\n",
    "\n",
    "        tokens = detect_text(table_img)\n",
    "\n",
    "        pred_labels, pred_scores, pred_bboxes = predict(structure_preprocessor, structure_model, table_img)\n",
    "        pred_structures = select_structure_predictions(pred_labels, pred_scores, pred_bboxes)\n",
    "        \n",
    "        visualize_bbox(table_img, pred_structures, \"structure\")\n",
    "        \n",
    "        _, pred_cells, _ = objects_to_cells(\n",
    "            pred_bboxes,\n",
    "            pred_labels,\n",
    "            pred_scores,\n",
    "            tokens,\n",
    "            structure_class_names,\n",
    "            structure_class_thresholds,\n",
    "            structure_class_map,\n",
    "        )\n",
    "        \n",
    "        visualize_postprocessed_cell(table_img, pred_cells)"
   ]
  },
  {
   "cell_type": "code",
   "execution_count": null,
   "metadata": {},
   "outputs": [],
   "source": []
  }
 ],
 "metadata": {
  "kernelspec": {
   "display_name": "Python 3.7.12 ('table-detr')",
   "language": "python",
   "name": "python3"
  },
  "language_info": {
   "codemirror_mode": {
    "name": "ipython",
    "version": 3
   },
   "file_extension": ".py",
   "mimetype": "text/x-python",
   "name": "python",
   "nbconvert_exporter": "python",
   "pygments_lexer": "ipython3",
   "version": "3.7.12"
  },
  "orig_nbformat": 4,
  "vscode": {
   "interpreter": {
    "hash": "cf190146577b0bb4ab0a1f618eedc3e2e9d611f36a07fa8c9aacd4f48d816584"
   }
  }
 },
 "nbformat": 4,
 "nbformat_minor": 2
}
